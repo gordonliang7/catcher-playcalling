{
 "cells": [
  {
   "cell_type": "code",
   "execution_count": 1,
   "id": "cf104bd1",
   "metadata": {},
   "outputs": [],
   "source": [
    "import pandas as pd\n",
    "import numpy as np\n",
    "%run 'Stat Calculator.py'"
   ]
  },
  {
   "cell_type": "code",
   "execution_count": null,
   "id": "337c37cc",
   "metadata": {},
   "outputs": [],
   "source": [
    "MLBsample = pd.read_csv('Sample Data.csv')"
   ]
  },
  {
   "cell_type": "code",
   "execution_count": null,
   "id": "fd86f2f4",
   "metadata": {},
   "outputs": [],
   "source": [
    "#Define Helper Functions To Get Differences Between\n",
    "#When The Catcher Is Catching vs When He's Not\n",
    "def wOBAdiffDef(samp,catcher):\n",
    "    '''Input: A dataframe and a catcher's name\n",
    "    Output: The difference in wOBA between when the catcher is catching\n",
    "    and when he's not.\n",
    "    \n",
    "    (not catching - catching)'''\n",
    "    return wOBA_calculator(samp[samp['C'] != catcher]['events']) - wOBA_calculator(samp[samp['C'] == catcher]['events'])\n",
    "    \n",
    "def OPSdiffDef(samp,catcher):\n",
    "    '''Input: A dataframe and a catcher's name\n",
    "    Output: The difference in OPS between when the catcher is catching\n",
    "    and when he's not.\n",
    "    \n",
    "    (not catching - catching)'''\n",
    "    return OPS_calculator(samp[samp['C'] != catcher]['events']) - OPS_calculator(samp[samp['C'] == catcher]['events'])\n",
    "\n",
    "def significant(val,lst):\n",
    "    '''Input:\n",
    "        val- a value\n",
    "        lst- a list of values\n",
    "    \n",
    "    Output:\n",
    "        Boolean: True if the value is outside the 95% CI, False otherwise'''\n",
    "    return (val < np.percentile(lst,2.5)) or (val > np.percentile(lst,97.5))"
   ]
  },
  {
   "cell_type": "code",
   "execution_count": null,
   "id": "29c1fef4",
   "metadata": {},
   "outputs": [],
   "source": [
    "#Define Functions to Apply Across The Total Data\n",
    "\n",
    "def byPitcher(df): \n",
    "    '''Applied to a DataFrame with and returns the results of 1000 simulations'''\n",
    "    df = df[['C','events']] #Shorten data to keep only relevant points\n",
    "    vals = df['C'].value_counts()\n",
    "    val_catchers = [i for i in df['C'].unique() if vals[i] > 20] #only catchers who've caught 20+ PA's with pitcher\n",
    "    wOBAsimulations = {catcher: [] for catcher in val_catchers}\n",
    "    OPSsimulations = {catcher: [] for catcher in val_catchers}\n",
    "    dff = df.copy()\n",
    "    for i in range(1000): #Run 1000 Simulations\n",
    "        dff['C'] = list(df['C'].sample(frac = 1))\n",
    "        for catcher in val_catchers:\n",
    "            wOBAsimulations[catcher] += [wOBAdiffDef(dff,catcher)]\n",
    "            OPSsimulations[catcher] += [OPSdiffDef(dff,catcher)]\n",
    "    #print('Running simulation...') #Delete the first hashtag if you want a way to see how much of the code has run\n",
    "    return pd.DataFrame({'Plate Appearances': pd.Series({catcher:vals[catcher] for catcher in val_catchers}),\n",
    "                         'wOBA with Catcher': pd.Series({catcher: wOBA_calculator(df[df['C']==catcher]['events']) for catcher in val_catchers}),\n",
    "                         'wOBA without Catcher': pd.Series({catcher: wOBA_calculator(df[df['C'] != catcher]['events']) for catcher in val_catchers}),\n",
    "                         'wOBA Difference': pd.Series({catcher:wOBAdiffDef(df,catcher) for catcher in val_catchers}),\n",
    "                         'OPS with Catcher': pd.Series({catcher: OPS_calculator(df[df['C'] == catcher]['events']) for catcher in val_catchers}),\n",
    "                         'OPS without Catcher': pd.Series({catcher: OPS_calculator(df[df['C'] != catcher]['events']) for catcher in val_catchers}),\n",
    "                         'OPS Difference': pd.Series({catcher: OPSdiffDef(df,catcher) for catcher in val_catchers}),\n",
    "                         'wOBA Significant': pd.Series({catcher: significant(wOBAdiffDef(df,catcher),wOBAsimulations[catcher]) for catcher in val_catchers}),\n",
    "                         'OPS Significant': pd.Series({catcher: significant(OPSdiffDef(df,catcher),OPSsimulations[catcher]) for catcher in val_catchers})})\n",
    "\n",
    "def filterPitcher(df):\n",
    "    '''Returns a Boolean. True if the pitcher has 20+ PAs with multiple catchers this year'''\n",
    "    cutoff = len(df) - 20\n",
    "    catcherTotals = df.groupby('C').filter(lambda x: 20 <= len(x) <= cutoff)['C'].unique()\n",
    "    return len(catcherTotals) > 1"
   ]
  },
  {
   "cell_type": "code",
   "execution_count": null,
   "id": "f6186b51",
   "metadata": {},
   "outputs": [],
   "source": [
    "#Filter out Pitchers who've thrown 20+ PA's to more than one catcher\n",
    "filteredSample = MLBsample.dropna(subset = ['events']).groupby('P').filter(filterPitcher)\n",
    "\n",
    "#Run Simulations for Every Pitcher in the Data (Took me around Seven Minutes to finish running this)\n",
    "#There are 11 pitchers in the sample. If you delete the first hashtag of line 16 in the cell above,\n",
    "#You can keep track of how many pitchers have finished running.\n",
    "sampleSummary = filteredSample.groupby('P').apply(byPitcher)"
   ]
  },
  {
   "cell_type": "code",
   "execution_count": null,
   "id": "75df5e15",
   "metadata": {},
   "outputs": [],
   "source": [
    "#Show Results\n",
    "sampleSummary"
   ]
  }
 ],
 "metadata": {
  "kernelspec": {
   "display_name": "Python 3 (ipykernel)",
   "language": "python",
   "name": "python3"
  },
  "language_info": {
   "codemirror_mode": {
    "name": "ipython",
    "version": 3
   },
   "file_extension": ".py",
   "mimetype": "text/x-python",
   "name": "python",
   "nbconvert_exporter": "python",
   "pygments_lexer": "ipython3",
   "version": "3.9.12"
  }
 },
 "nbformat": 4,
 "nbformat_minor": 5
}
